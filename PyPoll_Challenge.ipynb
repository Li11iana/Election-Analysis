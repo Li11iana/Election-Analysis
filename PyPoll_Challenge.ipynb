{
 "cells": [
  {
   "cell_type": "code",
   "execution_count": 14,
   "id": "e8d1cb12",
   "metadata": {},
   "outputs": [],
   "source": [
    "# Add our dependencies.\n",
    "import csv\n",
    "import os"
   ]
  },
  {
   "cell_type": "code",
   "execution_count": 15,
   "id": "2584a53d",
   "metadata": {},
   "outputs": [],
   "source": [
    "# Add a variable to load a file from a path.\n",
    "file_to_load = os.path.join(\"Resources\", \"election_results.csv\")\n",
    "# Add a variable to save the file to a path.\n",
    "file_to_save = os.path.join(\"Resources\", \"election_analysis.txt\")"
   ]
  },
  {
   "cell_type": "code",
   "execution_count": 16,
   "id": "8775a743",
   "metadata": {},
   "outputs": [],
   "source": [
    "# Initialize a total vote counter.\n",
    "total_votes = 0\n",
    "\n",
    "# Candidate Options and candidate votes.\n",
    "candidate_options = []\n",
    "candidate_votes = {}"
   ]
  },
  {
   "cell_type": "code",
   "execution_count": 17,
   "id": "2a8df01a",
   "metadata": {},
   "outputs": [],
   "source": [
    "# 1: Create a county list (for the names of the counties) and \n",
    "# county votes dictionary (key:county, value:votes).\n",
    "county_list = []\n",
    "county_votes = {}"
   ]
  },
  {
   "cell_type": "code",
   "execution_count": 18,
   "id": "e3f21d2c",
   "metadata": {},
   "outputs": [],
   "source": [
    "# Track the winning candidate, vote count and percentage\n",
    "winning_candidate = \"\"\n",
    "winning_count = 0\n",
    "winning_percentage = 0"
   ]
  },
  {
   "cell_type": "code",
   "execution_count": 19,
   "id": "583189d1",
   "metadata": {},
   "outputs": [],
   "source": [
    "# 2: Track the largest county and county voter turnout.\n",
    "largest_county = \"\"\n",
    "largest_county_votes = 0\n"
   ]
  },
  {
   "cell_type": "code",
   "execution_count": 20,
   "id": "f1ff290f",
   "metadata": {},
   "outputs": [],
   "source": [
    "# Read the csv and convert it into a list of dictionaries\n",
    "with open(file_to_load) as election_data:\n",
    "    reader = csv.reader(election_data)\n",
    "\n",
    "    # Read the header\n",
    "    header = next(reader)\n",
    "\n",
    "    # For each row in the CSV file.\n",
    "    for row in reader:\n",
    "\n",
    "        # Add to the total vote count\n",
    "        total_votes = total_votes + 1\n",
    "\n",
    "        # Get the candidate name from each row.\n",
    "        candidate_name = row[2]\n",
    "\n",
    "        # 3: Extract the county name from each row.\n",
    "        county_name = row[1]\n",
    "\n",
    "        # If the candidate does not match any existing candidate add it to\n",
    "        # the candidate list\n",
    "        if candidate_name not in candidate_options:\n",
    "\n",
    "            # Add the candidate name to the candidate list.\n",
    "            candidate_options.append(candidate_name)\n",
    "\n",
    "            # And begin tracking that candidate's voter count.\n",
    "            candidate_votes[candidate_name] = 0\n",
    "\n",
    "        # Add a vote to that candidate's count\n",
    "        candidate_votes[candidate_name] += 1\n",
    "\n",
    "        # 4a: Write an if statement that checks that the\n",
    "        # county does not match any existing county in the county list.\n",
    "        if county_name not in county_list:\n",
    "\n",
    "            # 4b: Add the existing county to the list of counties.\n",
    "            county_list.append(county_name)\n",
    "\n",
    "            # 4c: Begin tracking the county's vote count.\n",
    "            county_votes[county_name] = 0\n",
    "\n",
    "        # 5: Add a vote to that county's vote count.\n",
    "        county_votes[county_name] += 1"
   ]
  },
  {
   "cell_type": "code",
   "execution_count": 21,
   "id": "c33fc18f",
   "metadata": {},
   "outputs": [
    {
     "name": "stdout",
     "output_type": "stream",
     "text": [
      "{'Charles Casper Stockham': 85213, 'Diana DeGette': 272892, 'Raymon Anthony Doane': 11606}\n"
     ]
    }
   ],
   "source": [
    "print(candidate_votes)"
   ]
  },
  {
   "cell_type": "code",
   "execution_count": 22,
   "id": "9fc171f9",
   "metadata": {},
   "outputs": [
    {
     "name": "stdout",
     "output_type": "stream",
     "text": [
      "{'Jefferson': 38855, 'Denver': 306055, 'Arapahoe': 24801}\n"
     ]
    }
   ],
   "source": [
    "print(county_votes)"
   ]
  },
  {
   "cell_type": "code",
   "execution_count": 23,
   "id": "a3de083c",
   "metadata": {},
   "outputs": [
    {
     "name": "stdout",
     "output_type": "stream",
     "text": [
      "\n",
      " Election Results\n",
      "-------------------------\n",
      "Total Votes: 369,711\n",
      "-------------------------\n",
      "\n",
      "County Votes:\n"
     ]
    }
   ],
   "source": [
    "# Save the results to our text file.\n",
    "with open(file_to_save, \"w\") as txt_file:\n",
    "\n",
    "    # Print the final vote count (to terminal)\n",
    "    election_results = (\n",
    "        f\"\\n Election Results\\n\"\n",
    "        f\"-------------------------\\n\"\n",
    "        f\"Total Votes: {total_votes:,}\\n\"\n",
    "        f\"-------------------------\\n\\n\"\n",
    "        f\"County Votes:\\n\")\n",
    "    print(election_results, end=\"\")\n",
    "\n"
   ]
  },
  {
   "cell_type": "code",
   "execution_count": 24,
   "id": "ee7a3da0",
   "metadata": {},
   "outputs": [],
   "source": [
    "with open(file_to_save, \"w\") as txt_file:\n",
    "    txt_file.write(election_results)"
   ]
  },
  {
   "cell_type": "code",
   "execution_count": 35,
   "id": "b3c0bde9",
   "metadata": {},
   "outputs": [
    {
     "name": "stdout",
     "output_type": "stream",
     "text": [
      "Jefferson: 10.5% (38,855)\n",
      "\n",
      "Denver: 82.8% (306,055)\n",
      "\n",
      "Arapahoe: 6.7% (24,801)\n",
      "\n"
     ]
    }
   ],
   "source": [
    " # 6a: Write a for loop to get the county from the county dictionary.\n",
    "for element in county_votes:\n",
    "        # 6b: Retrieve the county vote count.\n",
    "    votes = county_votes[element]\n",
    "        # 6c: Calculate the percentage of votes for the county.\n",
    "    county_vote_percent = float(votes) / float(total_votes) *100\n",
    "    results = (\n",
    "                f\"{element}: {county_vote_percent:.1f}% ({votes:,})\\n\"\n",
    "                )\n",
    "                    \n",
    "         # 6d: Print the county results to the terminal.\n",
    "    print(results)\n",
    "\n",
    "         # 6e: Save the county votes to a text file.\n",
    "with open(file_to_save, \"w\") as txt_file:\n",
    "    txt_file.write(results)\n",
    "\n"
   ]
  },
  {
   "cell_type": "code",
   "execution_count": 48,
   "id": "522614f1",
   "metadata": {},
   "outputs": [
    {
     "name": "stdout",
     "output_type": "stream",
     "text": [
      "Denver had the largest turnout with 24801\n",
      "Denver: 24801\n",
      "\n"
     ]
    }
   ],
   "source": [
    "         # 6f: Write an if statement to determine the winning county and get its vote count.\n",
    "\n",
    "for county in county_votes:\n",
    "    if county_votes[county] > (total_votes/2):\n",
    "        largest_county = county\n",
    "        largest_county_votes = votes\n",
    "\n",
    " # 7: Print the county with the largest turnout to the terminal.\n",
    "print(f\"{largest_county} had the largest turnout with {largest_county_votes}\")\n",
    "\n",
    "largest_county_summary = (f\"{largest_county}: {largest_county_votes}\\n\")\n",
    "print(largest_county_summary)"
   ]
  },
  {
   "cell_type": "code",
   "execution_count": 44,
   "id": "2d5946f1",
   "metadata": {},
   "outputs": [],
   "source": [
    "# 8: Save the county with the largest turnout to a text file.\n",
    "with open(file_to_save, \"w\") as txt_file:\n",
    "    txt_file.write(largest_county_summary)"
   ]
  },
  {
   "cell_type": "code",
   "execution_count": null,
   "id": "6e0b1667",
   "metadata": {},
   "outputs": [],
   "source": []
  }
 ],
 "metadata": {
  "kernelspec": {
   "display_name": "Python 3.9.12 ('base')",
   "language": "python",
   "name": "python3"
  },
  "language_info": {
   "codemirror_mode": {
    "name": "ipython",
    "version": 3
   },
   "file_extension": ".py",
   "mimetype": "text/x-python",
   "name": "python",
   "nbconvert_exporter": "python",
   "pygments_lexer": "ipython3",
   "version": "3.9.12"
  },
  "vscode": {
   "interpreter": {
    "hash": "8460d4379f2db7ca1790c309fa08bdb08e0415783bba4b95e23aac2b72fbbcd2"
   }
  }
 },
 "nbformat": 4,
 "nbformat_minor": 5
}
